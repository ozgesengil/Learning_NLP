{
 "cells": [
  {
   "cell_type": "code",
   "execution_count": null,
   "id": "705eb2de-2147-47eb-b770-194504fb3f75",
   "metadata": {},
   "outputs": [],
   "source": [
    "# CREATING THE DATASET"
   ]
  },
  {
   "cell_type": "code",
   "execution_count": null,
   "id": "a16d6cf0-8388-4362-b387-572a749a6d15",
   "metadata": {},
   "outputs": [],
   "source": [
    "\n",
    "import pandas as pd\n",
    "\n",
    "import numpy as np\n",
    "\n",
    "from sklearn.feature_extraction.text import TfidfVectorizer\n",
    "\n",
    "from scipy.sparse import hstack\n",
    "\n",
    "from sklearn.model_selection import train_test_split\n",
    "\n",
    "from sklearn.linear_model import LinearRegression\n",
    "\n",
    "from sklearn.svm import SVR\n",
    "\n",
    "from sklearn.metrics import mean_absolute_error, mean_squared_error, r2_score"
   ]
  },
  {
   "cell_type": "code",
   "execution_count": 2,
   "id": "d90b1713-dec8-45ec-b3ce-66a5da4323a0",
   "metadata": {},
   "outputs": [],
   "source": [
    "# List of (mock) dreams\n",
    "dreams = [\n",
    "    \"I find myself standing in an infinite classroom, my voice echoing endlessly. The students' faces blur into a sea of expectations. As I try to leave, the door vanishes, trapping me in a cycle of perpetual teaching. My knowledge becomes a burden I can't escape\", \"Walking through a sunlit meadow, I feel the warmth of the sun on my skin and the soft rustle of leaves. Birds sing a melody of peace. For the first time in months, the weight lifts, and my mind finds serenity amidst nature's embrace\", \" I am surrounded by screens displaying my achievements, each one demanding more. Notifications beep incessantly. I try to disconnect, but my devices fuse to my body, a constant reminder of my relentless drive and the world's unyielding expectations \", \"In a vast hall, colors dance to an unseen orchestra. Each note brings a new hue, creating a symphony of light. My spirit is lifted by the beauty around me, a reminder that even amidst exhaustion, art can restore my soul\", \" I find myself on a dark, empty stage, the spotlight glaring. There is no audience, no applause, just overwhelming silence. I realize my fear of performing without validation, my successes feeling hollow without recognition\",\n",
    "    \"Shelves upon shelves of books surround me, each containing a thought I have ever had. As I open one, memories flood back. I walk through my mental library, finding solace in the organized chaos of my mind, each book a testament to my intellect\", \" I wander through a city where the lights slowly dim. People move like shadows, their faces expressionless. The darkness encroaches, symbolizing my exhaustion. I struggle to keep a light alive within, knowing it's the key to escaping this bleak world\", \"The waves lap gently at my feet as I walk along an infinite beach. The horizon stretches endlessly. Each step feels lighter, the ocean's rhythm soothing my overworked mind. I feel a sense of infinite possibilities, a horizon of hope.\", \"In a room full of puzzle pieces, I try to fit them together. Each piece is a part of my life: career, relationships, dreams. The more I assemble, the clearer the picture of myself becomes, a mosaic of success and struggle.\", \"I climb a towering pile of papers and books, each step representing a task completed. The summit seems unreachable, but I continue, driven by an unseen force. At the peak, I find not exhaustion but a sense of accomplishment and perspective.\",\n",
    "    \"I am in a crowd of people, all talking but no sound reaches my ears. I try to speak but can't hear my own voice. The silence is deafening, a manifestation of my feeling unheard despite my achievements.\", \" In a vibrant garden, flowers bloom with each step I take. The air is filled with the scent of fresh blossoms. I realize the garden represents my mind, capable of flourishing even after periods of drought and exhaustion.\", \" In a room with a massive clock, every tick feels like a heartbeat. The hands move rapidly, time slipping away. I try to stop it, feeling my life rush by too fast. The relentless pace mirrors my anxiety about losing precious moments.\", \"The walls of my home whisper my thoughts back to me, each one a reminder of my inner struggles and fears. I face each whisper, acknowledging them, and find that voicing my thoughts reduces their power over me.\", \" I run through an endless corridor lined with doors. Each door opens to a different aspect of my life, some bright, some dark. I realize that balance is key, and I need to close some doors to find peace.\",\n",
    "    \"I float above the world, watching people live their lives. From this height, everything seems small and insignificant. I feel a sense of detachment but also clarity, understanding that my exhaustion is temporary and perspective is vital.\", \"Surrounded by friends, their laughter echoes around me. I join in, feeling a genuine connection and warmth. This dream reminds me of the importance of relationships and the joy that comes from shared moments of happiness.\", \"I explore a cave filled with glowing crystals, each one resonating with a different emotion. Touching them brings clarity and understanding. I navigate the cave, finding the crystals that help me reconnect with my core self.\", \" In a virtual reality world, I create scenarios of success and failure. I experience both vividly, learning to accept and learn from each. This controlled environment makes me realize that I the observer of my own behaviors and wishes and even mistakes. And I can learn from them. I feel with a sense of joy that I realized that intead of focusing too much on the actual experiments.\", \"I stand on the edge of a cliff, shouting into the abyss. My voice echoes back, distorted and unrecognizable. It's a reflection of my inner turmoil, the feeling of being lost and unheard. As the echoes fade, I realize the importance of finding my own voice amidst the chaos of life \"\n",
    "]"
   ]
  },
  {
   "cell_type": "code",
   "execution_count": 3,
   "id": "a656e7fb-22b5-4cce-8b62-296bb55719ac",
   "metadata": {},
   "outputs": [],
   "source": [
    "# Number of dreams\n",
    "num_dreams = len(dreams)"
   ]
  },
  {
   "cell_type": "code",
   "execution_count": 4,
   "id": "33ff8426-badf-44cf-83fe-2abf5d3549db",
   "metadata": {},
   "outputs": [],
   "source": [
    "# Generate additional variables (random numbers)\n",
    "#strength = np.random.randint(0, 5, num_dreams)\n",
    "#clarity = np.random.randint(0, 5, num_dreams)\n",
    "#rumination = np.random.randint(0, 5, num_dreams)\n",
    "#future_anxiety = np.random.randint(0, 5, num_dreams)\n",
    "\n",
    "# Generate lists of additional variables (real numbers)\n",
    "strength = ([0, 3, 0, 3, 1, 2, 2, 4, 3, 3, 0, 4, 0, 4, 3, 2, 4, 2, 4, 0])\n",
    "clarity = [3, 4, 0, 3, 1, 3, 0, 1, 4, 4, 1, 2, 1, 2, 3, 4, 2, 4, 3, 1]\n",
    "future_anxiety = [3, 0, 4, 1, 3, 1, 2, 0, 0, 1, 4, 1, 4, 2, 2, 1, 0, 0, 1, 2]"
   ]
  },
  {
   "cell_type": "code",
   "execution_count": 5,
   "id": "b3d14bb3-5377-4f84-bc6a-c4bcfc4e74ca",
   "metadata": {},
   "outputs": [],
   "source": [
    "# Create DataFrame\n",
    "data = {\n",
    "    'Dream': dreams,\n",
    "    'Strength': strength,\n",
    "    'Clarity': clarity,\n",
    "    'Future Anxiety': future_anxiety\n",
    "}\n"
   ]
  },
  {
   "cell_type": "code",
   "execution_count": 6,
   "id": "e68f2626-7445-4018-9f42-e8d25d274e67",
   "metadata": {},
   "outputs": [
    {
     "name": "stdout",
     "output_type": "stream",
     "text": [
      "CSV file 'dreams_data.csv' created successfully.\n"
     ]
    }
   ],
   "source": [
    "df = pd.DataFrame(data)\n",
    "\n",
    "# Save DataFrame to CSV\n",
    "df.to_csv('dreams_data.csv', index=False)\n",
    "\n",
    "print(\"CSV file 'dreams_data.csv' created successfully.\")"
   ]
  },
  {
   "cell_type": "code",
   "execution_count": 7,
   "id": "605f711d-a23a-427f-812c-08f234ca9a2b",
   "metadata": {},
   "outputs": [],
   "source": [
    "# Load the CSV file into a DataFrame\n",
    "df = pd.read_csv('dreams_data.csv')"
   ]
  },
  {
   "cell_type": "code",
   "execution_count": 8,
   "id": "f17c805e-2071-40d7-9ff6-ea7cee5301e6",
   "metadata": {},
   "outputs": [
    {
     "data": {
      "text/html": [
       "<div>\n",
       "<style scoped>\n",
       "    .dataframe tbody tr th:only-of-type {\n",
       "        vertical-align: middle;\n",
       "    }\n",
       "\n",
       "    .dataframe tbody tr th {\n",
       "        vertical-align: top;\n",
       "    }\n",
       "\n",
       "    .dataframe thead th {\n",
       "        text-align: right;\n",
       "    }\n",
       "</style>\n",
       "<table border=\"1\" class=\"dataframe\">\n",
       "  <thead>\n",
       "    <tr style=\"text-align: right;\">\n",
       "      <th></th>\n",
       "      <th>Dream</th>\n",
       "      <th>Strength</th>\n",
       "      <th>Clarity</th>\n",
       "      <th>Future Anxiety</th>\n",
       "    </tr>\n",
       "  </thead>\n",
       "  <tbody>\n",
       "    <tr>\n",
       "      <th>0</th>\n",
       "      <td>I find myself standing in an infinite classroo...</td>\n",
       "      <td>0</td>\n",
       "      <td>3</td>\n",
       "      <td>3</td>\n",
       "    </tr>\n",
       "    <tr>\n",
       "      <th>1</th>\n",
       "      <td>Walking through a sunlit meadow, I feel the wa...</td>\n",
       "      <td>3</td>\n",
       "      <td>4</td>\n",
       "      <td>0</td>\n",
       "    </tr>\n",
       "    <tr>\n",
       "      <th>2</th>\n",
       "      <td>I am surrounded by screens displaying my achi...</td>\n",
       "      <td>0</td>\n",
       "      <td>0</td>\n",
       "      <td>4</td>\n",
       "    </tr>\n",
       "    <tr>\n",
       "      <th>3</th>\n",
       "      <td>In a vast hall, colors dance to an unseen orch...</td>\n",
       "      <td>3</td>\n",
       "      <td>3</td>\n",
       "      <td>1</td>\n",
       "    </tr>\n",
       "    <tr>\n",
       "      <th>4</th>\n",
       "      <td>I find myself on a dark, empty stage, the spo...</td>\n",
       "      <td>1</td>\n",
       "      <td>1</td>\n",
       "      <td>3</td>\n",
       "    </tr>\n",
       "  </tbody>\n",
       "</table>\n",
       "</div>"
      ],
      "text/plain": [
       "                                               Dream  Strength  Clarity  \\\n",
       "0  I find myself standing in an infinite classroo...         0        3   \n",
       "1  Walking through a sunlit meadow, I feel the wa...         3        4   \n",
       "2   I am surrounded by screens displaying my achi...         0        0   \n",
       "3  In a vast hall, colors dance to an unseen orch...         3        3   \n",
       "4   I find myself on a dark, empty stage, the spo...         1        1   \n",
       "\n",
       "   Future Anxiety  \n",
       "0               3  \n",
       "1               0  \n",
       "2               4  \n",
       "3               1  \n",
       "4               3  "
      ]
     },
     "execution_count": 8,
     "metadata": {},
     "output_type": "execute_result"
    }
   ],
   "source": [
    "# Display the first few rows of the DataFrame\n",
    "df.head()"
   ]
  },
  {
   "cell_type": "code",
   "execution_count": 9,
   "id": "adf7dba4-50f3-4511-ab8b-5b174387f8b2",
   "metadata": {},
   "outputs": [],
   "source": [
    "# Separate the text variable (X_text) from the numerical variables (X_numeric)\n",
    "X_text = df['Dream']\n",
    "X_numeric = df.drop('Dream', axis=1)\n",
    "#print(X_text)\n",
    "#print(X_numeric)"
   ]
  },
  {
   "cell_type": "code",
   "execution_count": 10,
   "id": "3bdeeda6-6d6f-4964-af99-df1a771ffdf7",
   "metadata": {},
   "outputs": [],
   "source": [
    "# Preprocess the Text Data: Perform text preprocessing steps such as tokenization, removing stopwords, and vectorization.\n",
    "\n",
    "# Initialize the TfidfVectorizer\n",
    "tfidf_vectorizer = TfidfVectorizer(stop_words='english')\n",
    "\n",
    "# Fit and transform the text data\n",
    "X_text_tfidf = tfidf_vectorizer.fit_transform(X_text).toarray()\n",
    "X_text = X_text_tfidf"
   ]
  },
  {
   "cell_type": "code",
   "execution_count": 11,
   "id": "631b3320-9695-4a16-b827-9df3d0673d22",
   "metadata": {},
   "outputs": [],
   "source": [
    "# Extract the predictors\n",
    "\n",
    "X_strength = df[['Strength']].values\n",
    "X_clarity = df[['Clarity']].values\n",
    "X_anxiety = df[['Future Anxiety']].values"
   ]
  },
  {
   "cell_type": "code",
   "execution_count": 12,
   "id": "571dd185-0df7-483e-bd3c-6390dc782aa4",
   "metadata": {},
   "outputs": [
    {
     "name": "stdout",
     "output_type": "stream",
     "text": [
      "[[0]\n",
      " [1]\n",
      " [1]\n",
      " [1]\n",
      " [1]\n",
      " [0]\n",
      " [2]\n",
      " [4]\n",
      " [1]\n",
      " [2]\n",
      " [3]\n",
      " [4]\n",
      " [0]\n",
      " [4]\n",
      " [2]\n",
      " [2]]\n",
      "[[0.         0.         0.         ... 0.         0.         0.        ]\n",
      " [0.         0.         0.         ... 0.         0.         0.        ]\n",
      " [0.         0.         0.         ... 0.         0.         0.        ]\n",
      " ...\n",
      " [0.         0.         0.         ... 0.         0.         0.        ]\n",
      " [0.         0.         0.         ... 0.         0.         0.        ]\n",
      " [0.         0.         0.         ... 0.         0.         0.16465806]]\n"
     ]
    }
   ],
   "source": [
    "# Split the data into training and testing sets\n",
    "X_train, X_test, y_train, y_test = train_test_split(X_anxiety, X_text_tfidf, test_size=0.2, random_state=42)\n",
    "print(X_train)\n",
    "print(y_train)"
   ]
  },
  {
   "cell_type": "code",
   "execution_count": 13,
   "id": "4c53bcac-e0f3-4007-8baa-78d864daea83",
   "metadata": {},
   "outputs": [
    {
     "data": {
      "text/html": [
       "<style>#sk-container-id-1 {color: black;}#sk-container-id-1 pre{padding: 0;}#sk-container-id-1 div.sk-toggleable {background-color: white;}#sk-container-id-1 label.sk-toggleable__label {cursor: pointer;display: block;width: 100%;margin-bottom: 0;padding: 0.3em;box-sizing: border-box;text-align: center;}#sk-container-id-1 label.sk-toggleable__label-arrow:before {content: \"▸\";float: left;margin-right: 0.25em;color: #696969;}#sk-container-id-1 label.sk-toggleable__label-arrow:hover:before {color: black;}#sk-container-id-1 div.sk-estimator:hover label.sk-toggleable__label-arrow:before {color: black;}#sk-container-id-1 div.sk-toggleable__content {max-height: 0;max-width: 0;overflow: hidden;text-align: left;background-color: #f0f8ff;}#sk-container-id-1 div.sk-toggleable__content pre {margin: 0.2em;color: black;border-radius: 0.25em;background-color: #f0f8ff;}#sk-container-id-1 input.sk-toggleable__control:checked~div.sk-toggleable__content {max-height: 200px;max-width: 100%;overflow: auto;}#sk-container-id-1 input.sk-toggleable__control:checked~label.sk-toggleable__label-arrow:before {content: \"▾\";}#sk-container-id-1 div.sk-estimator input.sk-toggleable__control:checked~label.sk-toggleable__label {background-color: #d4ebff;}#sk-container-id-1 div.sk-label input.sk-toggleable__control:checked~label.sk-toggleable__label {background-color: #d4ebff;}#sk-container-id-1 input.sk-hidden--visually {border: 0;clip: rect(1px 1px 1px 1px);clip: rect(1px, 1px, 1px, 1px);height: 1px;margin: -1px;overflow: hidden;padding: 0;position: absolute;width: 1px;}#sk-container-id-1 div.sk-estimator {font-family: monospace;background-color: #f0f8ff;border: 1px dotted black;border-radius: 0.25em;box-sizing: border-box;margin-bottom: 0.5em;}#sk-container-id-1 div.sk-estimator:hover {background-color: #d4ebff;}#sk-container-id-1 div.sk-parallel-item::after {content: \"\";width: 100%;border-bottom: 1px solid gray;flex-grow: 1;}#sk-container-id-1 div.sk-label:hover label.sk-toggleable__label {background-color: #d4ebff;}#sk-container-id-1 div.sk-serial::before {content: \"\";position: absolute;border-left: 1px solid gray;box-sizing: border-box;top: 0;bottom: 0;left: 50%;z-index: 0;}#sk-container-id-1 div.sk-serial {display: flex;flex-direction: column;align-items: center;background-color: white;padding-right: 0.2em;padding-left: 0.2em;position: relative;}#sk-container-id-1 div.sk-item {position: relative;z-index: 1;}#sk-container-id-1 div.sk-parallel {display: flex;align-items: stretch;justify-content: center;background-color: white;position: relative;}#sk-container-id-1 div.sk-item::before, #sk-container-id-1 div.sk-parallel-item::before {content: \"\";position: absolute;border-left: 1px solid gray;box-sizing: border-box;top: 0;bottom: 0;left: 50%;z-index: -1;}#sk-container-id-1 div.sk-parallel-item {display: flex;flex-direction: column;z-index: 1;position: relative;background-color: white;}#sk-container-id-1 div.sk-parallel-item:first-child::after {align-self: flex-end;width: 50%;}#sk-container-id-1 div.sk-parallel-item:last-child::after {align-self: flex-start;width: 50%;}#sk-container-id-1 div.sk-parallel-item:only-child::after {width: 0;}#sk-container-id-1 div.sk-dashed-wrapped {border: 1px dashed gray;margin: 0 0.4em 0.5em 0.4em;box-sizing: border-box;padding-bottom: 0.4em;background-color: white;}#sk-container-id-1 div.sk-label label {font-family: monospace;font-weight: bold;display: inline-block;line-height: 1.2em;}#sk-container-id-1 div.sk-label-container {text-align: center;}#sk-container-id-1 div.sk-container {/* jupyter's `normalize.less` sets `[hidden] { display: none; }` but bootstrap.min.css set `[hidden] { display: none !important; }` so we also need the `!important` here to be able to override the default hidden behavior on the sphinx rendered scikit-learn.org. See: https://github.com/scikit-learn/scikit-learn/issues/21755 */display: inline-block !important;position: relative;}#sk-container-id-1 div.sk-text-repr-fallback {display: none;}</style><div id=\"sk-container-id-1\" class=\"sk-top-container\"><div class=\"sk-text-repr-fallback\"><pre>LinearRegression()</pre><b>In a Jupyter environment, please rerun this cell to show the HTML representation or trust the notebook. <br />On GitHub, the HTML representation is unable to render, please try loading this page with nbviewer.org.</b></div><div class=\"sk-container\" hidden><div class=\"sk-item\"><div class=\"sk-estimator sk-toggleable\"><input class=\"sk-toggleable__control sk-hidden--visually\" id=\"sk-estimator-id-1\" type=\"checkbox\" checked><label for=\"sk-estimator-id-1\" class=\"sk-toggleable__label sk-toggleable__label-arrow\">LinearRegression</label><div class=\"sk-toggleable__content\"><pre>LinearRegression()</pre></div></div></div></div></div>"
      ],
      "text/plain": [
       "LinearRegression()"
      ]
     },
     "execution_count": 13,
     "metadata": {},
     "output_type": "execute_result"
    }
   ],
   "source": [
    "# Initialize and train the model\n",
    "model = LinearRegression()\n",
    "model.fit(X_train, y_train)"
   ]
  },
  {
   "cell_type": "code",
   "execution_count": 14,
   "id": "2fc0c5ba-b46f-48f1-9228-cac3aed067c7",
   "metadata": {},
   "outputs": [
    {
     "name": "stdout",
     "output_type": "stream",
     "text": [
      "[[0.0154866  0.0056438  0.00712619 ... 0.03416338 0.0056438  0.04370997]\n",
      " [0.01002074 0.02015642 0.02545068 ... 0.02210572 0.02015642 0.00979733]\n",
      " [0.01184269 0.01531888 0.01934251 ... 0.02612494 0.01531888 0.02110154]\n",
      " [0.01002074 0.02015642 0.02545068 ... 0.02210572 0.02015642 0.00979733]]\n",
      "[[0.         0.         0.         ... 0.         0.         0.        ]\n",
      " [0.         0.         0.         ... 0.         0.         0.        ]\n",
      " [0.         0.         0.         ... 0.         0.         0.18771318]\n",
      " [0.         0.         0.         ... 0.         0.         0.        ]]\n",
      "Mean Squared Error: 0.0034529493570737337\n"
     ]
    }
   ],
   "source": [
    "# Predict on the testing data (Linear Regression Model)\n",
    "y_pred = model.predict(X_test)\n",
    "print(y_pred)\n",
    "print(y_test)\n",
    "\n",
    "# Evaluate the model\n",
    "from sklearn.metrics import mean_squared_erro\n",
    "\n",
    "# Calculate evaluation metrics\n",
    "mae = mean_absolute_error(y_test, y_pred)\n",
    "mse = mean_squared_error(y_test, y_pred)\n",
    "r_squared = r2_score(y_test, y_pred)\n",
    "rmse = np.sqrt(mse)\n",
    " \n",
    "# Print the evaluation metrics\n",
    "print(\"Mean Absolute Error (MAE):\", mae)\n",
    "print(\"Mean Squared Error (MSE):\", mse)\n",
    "print(\"R-squared (R²):\", r_squared)\n",
    "print(\"Root Mean Squared Error (RMSE):\", rmse)"
   ]
  },
  {
   "cell_type": "code",
   "execution_count": 15,
   "id": "3a3cd98c-ec6f-4284-a545-d26cc8ec7521",
   "metadata": {},
   "outputs": [
    {
     "name": "stdout",
     "output_type": "stream",
     "text": [
      "Mean Squared Error: 0.01052263802192412\n"
     ]
    }
   ],
   "source": [
    "# SVR Model\n",
    "\n",
    "# Ensure y_train is a 2D array\n",
    "y_train = np.array(y_train)\n",
    "if y_train.ndim == 1:\n",
    "    y_train = y_train.reshape(-1, 1)\n",
    "\n",
    "\n",
    "# Train the SVR model for each feature in the TF-IDF matrix\n",
    "# We need to train one SVR model per TF-IDF feature\n",
    "models = []\n",
    "for i in range(X_text.shape[1]):\n",
    "    svr_model = SVR(kernel='linear')\n",
    "    svr_model.fit(X_train, y_train[:, i])\n",
    "    models.append(svr_model)\n",
    "\n",
    "# Make predictions\n",
    "predictions = []\n",
    "for i, model in enumerate(models):\n",
    "    pred = model.predict(X_test)\n",
    "    predictions.append(pred)\n",
    "predictions = np.array(predictions).T\n",
    "\n",
    "# Evaluate the model using Mean Squared Error\n",
    "mse = mean_squared_error(y_test, predictions)\n",
    "print(f'Mean Squared Error: {mse}')"
   ]
  },
  {
   "cell_type": "code",
   "execution_count": 19,
   "id": "48ba09c1-b2aa-45dd-bb04-b86f8cb78fb5",
   "metadata": {},
   "outputs": [
    {
     "name": "stdout",
     "output_type": "stream",
     "text": [
      "Mean Absolute Error (MAE): 0.029440657088923818\n",
      "Mean Squared Error (MSE): 0.0034529493570737337\n",
      "R-squared (R²): -0.07087526779520523\n",
      "Root Mean Squared Error (RMSE): 0.0587618018535318\n"
     ]
    }
   ],
   "source": [
    "# Calculate evaluation metrics\n",
    "mae = mean_absolute_error(y_test, y_pred)\n",
    "mse = mean_squared_error(y_test, y_pred)\n",
    "r_squared = r2_score(y_test, y_pred)\n",
    "rmse = np.sqrt(mse)\n",
    " \n",
    "# Print the evaluation metrics\n",
    "print(\"Mean Absolute Error (MAE):\", mae)\n",
    "print(\"Mean Squared Error (MSE):\", mse)\n",
    "print(\"R-squared (R²):\", r_squared)\n",
    "print(\"Root Mean Squared Error (RMSE):\", rmse)"
   ]
  },
  {
   "cell_type": "code",
   "execution_count": null,
   "id": "43f1da80-79ea-416a-adf8-fe93ba22db42",
   "metadata": {},
   "outputs": [],
   "source": []
  }
 ],
 "metadata": {
  "kernelspec": {
   "display_name": "Python 3 (ipykernel)",
   "language": "python",
   "name": "python3"
  },
  "language_info": {
   "codemirror_mode": {
    "name": "ipython",
    "version": 3
   },
   "file_extension": ".py",
   "mimetype": "text/x-python",
   "name": "python",
   "nbconvert_exporter": "python",
   "pygments_lexer": "ipython3",
   "version": "3.11.5"
  }
 },
 "nbformat": 4,
 "nbformat_minor": 5
}
